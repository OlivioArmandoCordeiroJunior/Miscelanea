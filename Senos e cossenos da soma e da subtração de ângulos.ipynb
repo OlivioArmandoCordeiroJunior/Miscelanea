{
 "cells": [
  {
   "cell_type": "markdown",
   "metadata": {},
   "source": [
    "# Senos e cossenos da soma e da subtração de ângulos"
   ]
  },
  {
   "cell_type": "markdown",
   "metadata": {},
   "source": [
    "## Identidade de Euler\n",
    "\n",
    "A identidade de Euler pode ser vista graficamente na figura abaixo, extraída de https://commons.wikimedia.org/wiki/File:Euler%27s_formula.png."
   ]
  },
  {
   "attachments": {
    "Euler's_formula.png": {
     "image/png": "[encoded data removed]"
    }
   },
   "cell_type": "markdown",
   "metadata": {},
   "source": [
    "![Euler's_formula.png](attachment:Euler's_formula.png)\n",
    "\n",
    "<a href=\"https://commons.wikimedia.org/wiki/File:Euler%27s_formula.png\">Gunther</a>, <a href=\"http://creativecommons.org/licenses/by-sa/3.0/\">CC BY-SA 3.0</a>, via Wikimedia Commons"
   ]
  },
  {
   "cell_type": "markdown",
   "metadata": {},
   "source": [
    "## Soma dos ângulos\n",
    "\n",
    "Encontrando a fórmula da soma dos ângulos do seno usando a identidade de Euler (https://www.youtube.com/watch?v=jxrZRY9QgwE)\n",
    "\n",
    "$e^{iA} = \\cos(A) + i\\sin(A)$\n",
    "\n",
    "$e^{iB} = \\cos(B) + i\\sin(B)$\n",
    "\n",
    "$e^{iA}e^{iB} = e^{i(A+B)} $\n",
    "\n",
    "$ e^{iA}e^{iB} = (\\cos(A) + i\\sin(A))\\times(\\cos(B) + i\\sin(B)) =\n",
    "\\cos(A)\\cos(B) + i\\cos(A)\\sin(B) +\n",
    "i\\sin(A)\\cos(B) + i^2\\sin(A)\\sin(B) = $\n",
    "\n",
    "$ = (\\cos(A)\\cos(B) - \\sin(A)\\sin(B)) + i(\\cos(A)\\sin(B) + \\sin(A)\\cos(B)) $\n",
    "\n",
    "$ e^{i(A+B)} = \\cos(A+B) + i\\sin(A+B)$\n",
    "\n",
    "Assim, \n",
    "\n",
    "$ \\cos(A+B) = \\cos(A)\\cos(B) - \\sin(A)\\sin(B) $\n",
    "\n",
    "$ \\sin(A+B) = \\cos(A)\\sin(B) + \\sin(A)\\cos(B) $"
   ]
  },
  {
   "cell_type": "markdown",
   "metadata": {},
   "source": [
    "## Subtração dos ângulos\n",
    "\n",
    "\n",
    "$e^{iA} = \\cos(A) + i\\sin(A)$\n",
    "\n",
    "$e^{-iB} = \\cos(B) - i\\sin(B)$\n",
    "\n",
    "$e^{iA}e^{-iB} = e^{i(A-B)} $\n",
    "\n",
    "$ e^{iA}e^{-iB} = (\\cos(A) + i\\sin(A))\\times(\\cos(B) - i\\sin(B)) =\n",
    "\\cos(A)\\cos(B) - i\\cos(A)\\sin(B) +\n",
    "i\\sin(A)\\cos(B) - i^2\\sin(A)\\sin(B) = $\n",
    "\n",
    "$ = (\\cos(A)\\cos(B) + \\sin(A)\\sin(B)) + i(\\sin(A)\\cos(B) - \\cos(A)\\sin(B) ) $\n",
    "\n",
    "$ e^{i(A-B)} = \\cos(A-B) + i\\sin(A-B)$\n",
    "\n",
    "Assim, \n",
    "\n",
    "$ \\cos(A-B) = \\cos(A)\\cos(B) + \\sin(A)\\sin(B) $\n",
    "\n",
    "$ \\sin(A-B) = \\sin(A)\\cos(B) - \\cos(A)\\sin(B) $"
   ]
  }
 ],
 "metadata": {
  "kernelspec": {
   "display_name": "Python 3",
   "language": "python",
   "name": "python3"
  },
  "language_info": {
   "codemirror_mode": {
    "name": "ipython",
    "version": 3
   },
   "file_extension": ".py",
   "mimetype": "text/x-python",
   "name": "python",
   "nbconvert_exporter": "python",
   "pygments_lexer": "ipython3",
   "version": "3.8.5"
  }
 },
 "nbformat": 4,
 "nbformat_minor": 4
}
